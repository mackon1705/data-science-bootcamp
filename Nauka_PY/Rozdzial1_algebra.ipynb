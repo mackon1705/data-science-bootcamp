{
  "nbformat": 4,
  "nbformat_minor": 0,
  "metadata": {
    "colab": {
      "name": "Rozdzial1_algebra.ipynb",
      "provenance": [],
      "collapsed_sections": [],
      "authorship_tag": "ABX9TyPYrefC2QPINkvkj/1iPsuN",
      "include_colab_link": true
    },
    "kernelspec": {
      "name": "python3",
      "display_name": "Python 3"
    },
    "language_info": {
      "name": "python"
    }
  },
  "cells": [
    {
      "cell_type": "markdown",
      "metadata": {
        "id": "view-in-github",
        "colab_type": "text"
      },
      "source": [
        "<a href=\"https://colab.research.google.com/github/mackon1705/data-science-bootcamp/blob/main/Rozdzial1_algebra.ipynb\" target=\"_parent\"><img src=\"https://colab.research.google.com/assets/colab-badge.svg\" alt=\"Open In Colab\"/></a>"
      ]
    },
    {
      "cell_type": "code",
      "metadata": {
        "id": "3GLHk-4sqQpF"
      },
      "source": [
        "import numpy as np"
      ],
      "execution_count": 1,
      "outputs": []
    },
    {
      "cell_type": "code",
      "metadata": {
        "colab": {
          "base_uri": "https://localhost:8080/"
        },
        "id": "X_4oSgR8qV2S",
        "outputId": "4b9f4935-34f3-444e-b629-b97807ef1ac3"
      },
      "source": [
        "print(np.__version__)"
      ],
      "execution_count": 2,
      "outputs": [
        {
          "output_type": "stream",
          "name": "stdout",
          "text": [
            "1.19.5\n"
          ]
        }
      ]
    },
    {
      "cell_type": "code",
      "metadata": {
        "id": "3ZfL1sdGqY8P"
      },
      "source": [
        "# norma wektora - pierwiastek sumy kwadratów współrzędnich (odległość euklidesowa od środka układu współrzędnicyhb)"
      ],
      "execution_count": null,
      "outputs": []
    },
    {
      "cell_type": "code",
      "source": [
        "v1 = np.array([-1,4])\n",
        "v1"
      ],
      "metadata": {
        "colab": {
          "base_uri": "https://localhost:8080/"
        },
        "id": "3rfs82GVD6Rd",
        "outputId": "b742a3e8-4e33-4df3-cb9e-8fb4d005c7e5"
      },
      "execution_count": 5,
      "outputs": [
        {
          "output_type": "execute_result",
          "data": {
            "text/plain": [
              "array([-1,  4])"
            ]
          },
          "metadata": {},
          "execution_count": 5
        }
      ]
    },
    {
      "cell_type": "markdown",
      "source": [
        "Obliczanie normy wektora v1"
      ],
      "metadata": {
        "id": "gh3gk4b5EN_Y"
      }
    },
    {
      "cell_type": "code",
      "source": [
        "np.linalg.norm(v1)"
      ],
      "metadata": {
        "colab": {
          "base_uri": "https://localhost:8080/"
        },
        "id": "CX2fgjXgEJHW",
        "outputId": "a4061e60-27f4-4c23-ea68-2d276d7ada1e"
      },
      "execution_count": 6,
      "outputs": [
        {
          "output_type": "execute_result",
          "data": {
            "text/plain": [
              "4.123105625617661"
            ]
          },
          "metadata": {},
          "execution_count": 6
        }
      ]
    },
    {
      "cell_type": "markdown",
      "source": [
        "Norma eklidesowa w przystrzeni Rn (nauczanie maszynowe ma klikaset przestrzeni"
      ],
      "metadata": {
        "id": "bMtR8NzNEVtX"
      }
    },
    {
      "cell_type": "code",
      "source": [
        "v2 = np.array([-10,10,13])"
      ],
      "metadata": {
        "id": "RwL_xiN-EbV2"
      },
      "execution_count": 7,
      "outputs": []
    },
    {
      "cell_type": "code",
      "source": [
        "np.linalg.norm(v2)"
      ],
      "metadata": {
        "colab": {
          "base_uri": "https://localhost:8080/"
        },
        "id": "Y5hYEj6dEf_J",
        "outputId": "9cfaac77-70b6-46aa-f79b-9a7d7ece51d1"
      },
      "execution_count": 9,
      "outputs": [
        {
          "output_type": "execute_result",
          "data": {
            "text/plain": [
              "19.209372712298546"
            ]
          },
          "metadata": {},
          "execution_count": 9
        }
      ]
    },
    {
      "cell_type": "code",
      "source": [
        ""
      ],
      "metadata": {
        "id": "mZdJ1AQyE2iq"
      },
      "execution_count": null,
      "outputs": []
    },
    {
      "cell_type": "markdown",
      "source": [
        "Odlegloc 2 punktow na plaszczyznie (roznica po wspolrzednych)"
      ],
      "metadata": {
        "id": "9C4jxNAiExqM"
      }
    },
    {
      "cell_type": "code",
      "source": [
        "p = np.array([3,0])\n",
        "q= np.array([0,4])"
      ],
      "metadata": {
        "id": "YIWRDxteE3YA"
      },
      "execution_count": 10,
      "outputs": []
    },
    {
      "cell_type": "code",
      "source": [
        "np.linalg.norm(p-q)"
      ],
      "metadata": {
        "colab": {
          "base_uri": "https://localhost:8080/"
        },
        "id": "HHsAXA7BFC_t",
        "outputId": "318cc989-5285-4641-ab15-c9fbd46a67df"
      },
      "execution_count": 11,
      "outputs": [
        {
          "output_type": "execute_result",
          "data": {
            "text/plain": [
              "5.0"
            ]
          },
          "metadata": {},
          "execution_count": 11
        }
      ]
    },
    {
      "cell_type": "code",
      "source": [
        "p = np.array([3,0,1])\n",
        "q= np.array([0,4,2])"
      ],
      "metadata": {
        "id": "iI89Jin3FMjT"
      },
      "execution_count": 12,
      "outputs": []
    },
    {
      "cell_type": "code",
      "source": [
        "np.linalg.norm(p-q)"
      ],
      "metadata": {
        "colab": {
          "base_uri": "https://localhost:8080/"
        },
        "id": "09pnonIxFRIO",
        "outputId": "41ca8284-677e-49b2-833b-476f4854ef3d"
      },
      "execution_count": 13,
      "outputs": [
        {
          "output_type": "execute_result",
          "data": {
            "text/plain": [
              "5.0990195135927845"
            ]
          },
          "metadata": {},
          "execution_count": 13
        }
      ]
    },
    {
      "cell_type": "markdown",
      "source": [
        "MNOŻENIE MACIERZY"
      ],
      "metadata": {
        "id": "ylb3HD58FWUx"
      }
    },
    {
      "cell_type": "code",
      "source": [
        "X = np.array([[5,3],[3,9]])\n",
        "Y = np.array([[-1],[1]])\n",
        "print(X, '\\n')\n",
        "print(Y)"
      ],
      "metadata": {
        "colab": {
          "base_uri": "https://localhost:8080/"
        },
        "id": "3c735pmuFYL3",
        "outputId": "b492ec06-4862-4e6e-8a90-3f33aebcf2e3"
      },
      "execution_count": 20,
      "outputs": [
        {
          "output_type": "stream",
          "name": "stdout",
          "text": [
            "[[5 3]\n",
            " [3 9]] \n",
            "\n",
            "[[-1]\n",
            " [ 1]]\n"
          ]
        }
      ]
    },
    {
      "cell_type": "code",
      "source": [
        "Z = X.dot(Y)\n",
        "Z1 = np.dot(X,Y)\n",
        "print(Z)\n",
        "print('\\n')\n",
        "print(Z1)"
      ],
      "metadata": {
        "colab": {
          "base_uri": "https://localhost:8080/"
        },
        "id": "6P7JQLeCGG3I",
        "outputId": "31b6af7b-16d4-447f-8a80-7ccf5c3ad2c0"
      },
      "execution_count": 23,
      "outputs": [
        {
          "output_type": "stream",
          "name": "stdout",
          "text": [
            "[[-2]\n",
            " [ 6]]\n",
            "\n",
            "\n",
            "[[-2]\n",
            " [ 6]]\n"
          ]
        }
      ]
    },
    {
      "cell_type": "markdown",
      "source": [
        "Wyznacznik macierzy - wyznacznik liczy jako zmiennoprzecinkowa - konieczne jest round"
      ],
      "metadata": {
        "id": "RlZKBz3YHNYh"
      }
    },
    {
      "cell_type": "code",
      "source": [
        "A = np.array([[2,4], [-1,3]])\n",
        "round(np.linalg.det(A))"
      ],
      "metadata": {
        "colab": {
          "base_uri": "https://localhost:8080/"
        },
        "id": "xgOVGbZnHz4K",
        "outputId": "9dd66d61-9f49-4f74-d9dd-1ef4f032751b"
      },
      "execution_count": 26,
      "outputs": [
        {
          "output_type": "execute_result",
          "data": {
            "text/plain": [
              "10"
            ]
          },
          "metadata": {},
          "execution_count": 26
        }
      ]
    },
    {
      "cell_type": "markdown",
      "source": [
        "Ślad macierzy - suma elementów na przekątnej"
      ],
      "metadata": {
        "id": "M1z5x_ZBIDyO"
      }
    },
    {
      "cell_type": "code",
      "source": [
        "A = np.array([[2,4], [-1,3]])\n",
        "print(np.trace(A))"
      ],
      "metadata": {
        "colab": {
          "base_uri": "https://localhost:8080/"
        },
        "id": "JgIwBUQkILf4",
        "outputId": "06c9133c-8fdb-4d23-86ad-22c703112663"
      },
      "execution_count": 27,
      "outputs": [
        {
          "output_type": "stream",
          "name": "stdout",
          "text": [
            "5\n"
          ]
        }
      ]
    },
    {
      "cell_type": "markdown",
      "source": [
        "Macierz jednostkowa "
      ],
      "metadata": {
        "id": "8_ux2XsSIU9Q"
      }
    },
    {
      "cell_type": "code",
      "source": [
        "B = np.eye(5, dtype='int')\n",
        "B"
      ],
      "metadata": {
        "colab": {
          "base_uri": "https://localhost:8080/"
        },
        "id": "oB4typCWIb4E",
        "outputId": "40838412-aae4-4b35-dff3-d4b0de73af8c"
      },
      "execution_count": 29,
      "outputs": [
        {
          "output_type": "execute_result",
          "data": {
            "text/plain": [
              "array([[1, 0, 0, 0, 0],\n",
              "       [0, 1, 0, 0, 0],\n",
              "       [0, 0, 1, 0, 0],\n",
              "       [0, 0, 0, 1, 0],\n",
              "       [0, 0, 0, 0, 1]])"
            ]
          },
          "metadata": {},
          "execution_count": 29
        }
      ]
    },
    {
      "cell_type": "markdown",
      "source": [
        "Macierz odwrotna (macierz A musi byc kwadratorwa"
      ],
      "metadata": {
        "id": "WJ-CkDf5IkAW"
      }
    },
    {
      "cell_type": "code",
      "source": [
        "C = np.linalg.inv(A)\n",
        "print(np.dot(A,C))"
      ],
      "metadata": {
        "colab": {
          "base_uri": "https://localhost:8080/"
        },
        "id": "Oi8jaadMIomX",
        "outputId": "d29ac155-4c6a-4c3a-c82e-6baa600e1268"
      },
      "execution_count": 34,
      "outputs": [
        {
          "output_type": "stream",
          "name": "stdout",
          "text": [
            "[[1.00000000e+00 0.00000000e+00]\n",
            " [2.77555756e-17 1.00000000e+00]]\n"
          ]
        }
      ]
    },
    {
      "cell_type": "markdown",
      "source": [
        "Ustawienie printowania dla biblioteki numpy"
      ],
      "metadata": {
        "id": "4c_pSRDMJCvy"
      }
    },
    {
      "cell_type": "code",
      "source": [
        "np.set_printoptions(precision=4, suppress=True)\n",
        "print(np.dot(A,C))"
      ],
      "metadata": {
        "colab": {
          "base_uri": "https://localhost:8080/"
        },
        "id": "KRNKjvoBJFKz",
        "outputId": "9b8613fd-3e52-4717-9cd8-119e5500b6a8"
      },
      "execution_count": 35,
      "outputs": [
        {
          "output_type": "stream",
          "name": "stdout",
          "text": [
            "[[1. 0.]\n",
            " [0. 1.]]\n"
          ]
        }
      ]
    },
    {
      "cell_type": "code",
      "source": [
        "print(np.dot(C,A))"
      ],
      "metadata": {
        "colab": {
          "base_uri": "https://localhost:8080/"
        },
        "id": "AZkIREJ_JXan",
        "outputId": "d6701316-9c56-41a0-f505-0c4ebc1256cc"
      },
      "execution_count": 36,
      "outputs": [
        {
          "output_type": "stream",
          "name": "stdout",
          "text": [
            "[[ 1. -0.]\n",
            " [ 0.  1.]]\n"
          ]
        }
      ]
    },
    {
      "cell_type": "markdown",
      "source": [
        "Macierz transponowana (zamiana wierszy na kolumny, kolumny na wiersze"
      ],
      "metadata": {
        "id": "V1B0YldpJZ1O"
      }
    },
    {
      "cell_type": "code",
      "source": [
        "np.transpose(A)"
      ],
      "metadata": {
        "colab": {
          "base_uri": "https://localhost:8080/"
        },
        "id": "TkVoyxP7Jf7h",
        "outputId": "8d2da955-2c06-4ca8-f265-70baf0abb16a"
      },
      "execution_count": 38,
      "outputs": [
        {
          "output_type": "execute_result",
          "data": {
            "text/plain": [
              "array([[ 2, -1],\n",
              "       [ 4,  3]])"
            ]
          },
          "metadata": {},
          "execution_count": 38
        }
      ]
    },
    {
      "cell_type": "markdown",
      "source": [
        "Inny sposób transponowania"
      ],
      "metadata": {
        "id": "QQTu9ywJJs_d"
      }
    },
    {
      "cell_type": "code",
      "source": [
        "A.T"
      ],
      "metadata": {
        "colab": {
          "base_uri": "https://localhost:8080/"
        },
        "id": "MiMdN_nWJq3j",
        "outputId": "28947d00-b2c8-43a1-8a03-c3c57c3ce108"
      },
      "execution_count": 39,
      "outputs": [
        {
          "output_type": "execute_result",
          "data": {
            "text/plain": [
              "array([[ 2, -1],\n",
              "       [ 4,  3]])"
            ]
          },
          "metadata": {},
          "execution_count": 39
        }
      ]
    },
    {
      "cell_type": "markdown",
      "source": [
        "Układy równań"
      ],
      "metadata": {
        "id": "KU9aK7zXJvih"
      }
    },
    {
      "cell_type": "code",
      "source": [
        "A = np.array([[2,4], [1,-1]])\n",
        "print(A)"
      ],
      "metadata": {
        "colab": {
          "base_uri": "https://localhost:8080/"
        },
        "id": "zSftRFVuKjuV",
        "outputId": "6c3963af-a10a-4d23-daf5-360bdc45052e"
      },
      "execution_count": 41,
      "outputs": [
        {
          "output_type": "stream",
          "name": "stdout",
          "text": [
            "[[ 2  4]\n",
            " [ 1 -1]]\n"
          ]
        }
      ]
    },
    {
      "cell_type": "code",
      "source": [
        "B = np.array([[10],[-1]])\n",
        "print(B)"
      ],
      "metadata": {
        "colab": {
          "base_uri": "https://localhost:8080/"
        },
        "id": "CHZu5zeVK1zs",
        "outputId": "c5b09bfd-ebdb-413b-e41e-720b6dffdf1d"
      },
      "execution_count": 45,
      "outputs": [
        {
          "output_type": "stream",
          "name": "stdout",
          "text": [
            "[[10]\n",
            " [-1]]\n"
          ]
        }
      ]
    },
    {
      "cell_type": "code",
      "source": [
        "A_inv = np.linalg.inv(A)\n",
        "print(A_inv)"
      ],
      "metadata": {
        "colab": {
          "base_uri": "https://localhost:8080/"
        },
        "id": "vX7Xa1J8K-PI",
        "outputId": "60c4d5d3-9205-477c-908e-a526d70d8283"
      },
      "execution_count": 46,
      "outputs": [
        {
          "output_type": "stream",
          "name": "stdout",
          "text": [
            "[[ 0.1667  0.6667]\n",
            " [ 0.1667 -0.3333]]\n"
          ]
        }
      ]
    },
    {
      "cell_type": "code",
      "source": [
        "X = np.dot(A_inv,B)\n",
        "print(X)"
      ],
      "metadata": {
        "colab": {
          "base_uri": "https://localhost:8080/"
        },
        "id": "Y_zVxFubLKUM",
        "outputId": "3e3e681a-2cbf-4d5c-9b6e-1e1b06c60e45"
      },
      "execution_count": 47,
      "outputs": [
        {
          "output_type": "stream",
          "name": "stdout",
          "text": [
            "[[1.]\n",
            " [2.]]\n"
          ]
        }
      ]
    },
    {
      "cell_type": "code",
      "source": [
        "X.shape"
      ],
      "metadata": {
        "colab": {
          "base_uri": "https://localhost:8080/"
        },
        "id": "VlcySNacLRDk",
        "outputId": "324ac7ce-a25f-41f7-bcae-e0f2f68e983c"
      },
      "execution_count": 48,
      "outputs": [
        {
          "output_type": "execute_result",
          "data": {
            "text/plain": [
              "(2, 1)"
            ]
          },
          "metadata": {},
          "execution_count": 48
        }
      ]
    }
  ]
}